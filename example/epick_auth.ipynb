{
 "cells": [
  {
   "cell_type": "markdown",
   "id": "be8b4926-69a6-4d33-ad6b-efef17cb31b1",
   "metadata": {
    "tags": []
   },
   "source": [
    "### Install PYTHON dependencies"
   ]
  },
  {
   "cell_type": "code",
   "execution_count": 1,
   "id": "037ebd0f-929e-4a74-8cdb-4a3916b6c24f",
   "metadata": {},
   "outputs": [
    {
     "name": "stdout",
     "output_type": "stream",
     "text": [
      "Looking in indexes: https://pypi.org/simple, https://pypi.ngc.nvidia.com\n",
      "Requirement already satisfied: fhirpy in /Users/dmitrijsutov/.pyenv/versions/3.10.2/lib/python3.10/site-packages (1.3.0)\n",
      "Requirement already satisfied: Authlib in /Users/dmitrijsutov/.pyenv/versions/3.10.2/lib/python3.10/site-packages (1.2.0)\n",
      "Requirement already satisfied: python-dotenv in /Users/dmitrijsutov/.pyenv/versions/3.10.2/lib/python3.10/site-packages (0.21.0)\n",
      "Requirement already satisfied: aiohttp>=3.6.3 in /Users/dmitrijsutov/.pyenv/versions/3.10.2/lib/python3.10/site-packages (from fhirpy) (3.8.3)\n",
      "Requirement already satisfied: requests>=2.25.1 in /Users/dmitrijsutov/.pyenv/versions/3.10.2/lib/python3.10/site-packages (from fhirpy) (2.28.1)\n",
      "Requirement already satisfied: pytz in /Users/dmitrijsutov/.pyenv/versions/3.10.2/lib/python3.10/site-packages (from fhirpy) (2022.2)\n",
      "Requirement already satisfied: cryptography>=3.2 in /Users/dmitrijsutov/.pyenv/versions/3.10.2/lib/python3.10/site-packages (from Authlib) (38.0.4)\n",
      "Requirement already satisfied: aiosignal>=1.1.2 in /Users/dmitrijsutov/.pyenv/versions/3.10.2/lib/python3.10/site-packages (from aiohttp>=3.6.3->fhirpy) (1.3.1)\n",
      "Requirement already satisfied: multidict<7.0,>=4.5 in /Users/dmitrijsutov/.pyenv/versions/3.10.2/lib/python3.10/site-packages (from aiohttp>=3.6.3->fhirpy) (6.0.3)\n",
      "Requirement already satisfied: async-timeout<5.0,>=4.0.0a3 in /Users/dmitrijsutov/.pyenv/versions/3.10.2/lib/python3.10/site-packages (from aiohttp>=3.6.3->fhirpy) (4.0.2)\n",
      "Requirement already satisfied: attrs>=17.3.0 in /Users/dmitrijsutov/.pyenv/versions/3.10.2/lib/python3.10/site-packages (from aiohttp>=3.6.3->fhirpy) (22.1.0)\n",
      "Requirement already satisfied: frozenlist>=1.1.1 in /Users/dmitrijsutov/.pyenv/versions/3.10.2/lib/python3.10/site-packages (from aiohttp>=3.6.3->fhirpy) (1.3.3)\n",
      "Requirement already satisfied: yarl<2.0,>=1.0 in /Users/dmitrijsutov/.pyenv/versions/3.10.2/lib/python3.10/site-packages (from aiohttp>=3.6.3->fhirpy) (1.8.2)\n",
      "Requirement already satisfied: charset-normalizer<3.0,>=2.0 in /Users/dmitrijsutov/.pyenv/versions/3.10.2/lib/python3.10/site-packages (from aiohttp>=3.6.3->fhirpy) (2.1.0)\n",
      "Requirement already satisfied: cffi>=1.12 in /Users/dmitrijsutov/.pyenv/versions/3.10.2/lib/python3.10/site-packages (from cryptography>=3.2->Authlib) (1.15.1)\n",
      "Requirement already satisfied: idna<4,>=2.5 in /Users/dmitrijsutov/.pyenv/versions/3.10.2/lib/python3.10/site-packages (from requests>=2.25.1->fhirpy) (3.3)\n",
      "Requirement already satisfied: certifi>=2017.4.17 in /Users/dmitrijsutov/.pyenv/versions/3.10.2/lib/python3.10/site-packages (from requests>=2.25.1->fhirpy) (2022.6.15)\n",
      "Requirement already satisfied: urllib3<1.27,>=1.21.1 in /Users/dmitrijsutov/.pyenv/versions/3.10.2/lib/python3.10/site-packages (from requests>=2.25.1->fhirpy) (1.26.11)\n",
      "Requirement already satisfied: pycparser in /Users/dmitrijsutov/.pyenv/versions/3.10.2/lib/python3.10/site-packages (from cffi>=1.12->cryptography>=3.2->Authlib) (2.21)\n",
      "Note: you may need to restart the kernel to use updated packages.\n"
     ]
    }
   ],
   "source": [
    "pip install fhirpy Authlib python-dotenv"
   ]
  },
  {
   "cell_type": "code",
   "execution_count": 2,
   "id": "4ee54853-33bd-4957-93a7-b69405a38714",
   "metadata": {},
   "outputs": [],
   "source": [
    "import datetime\n",
    "import os\n",
    "import uuid\n",
    "\n",
    "import requests\n",
    "from authlib.jose import jwt\n",
    "from dotenv import load_dotenv\n",
    "\n",
    "from fhirpy import SyncFHIRClient"
   ]
  },
  {
   "cell_type": "markdown",
   "id": "c2a0eb95-5ce8-459f-9f5e-2b65bf8fd4f7",
   "metadata": {
    "tags": []
   },
   "source": [
    "### load environment variables\n",
    "\n",
    "`cp example/.env.tpl example/.env`   \n",
    "`CLIENT_ID` - your epic app Non-Production Client ID   \n",
    "`PRIVATE_KEY_PATH` - path to your private .pem file (see [documentation](https://fhir.epic.com/Documentation?docId=oauth2&section=Creating-Key-Pair))"
   ]
  },
  {
   "cell_type": "code",
   "execution_count": 3,
   "id": "4b77d9f8-425c-4c55-bb85-c7f2b57a32bf",
   "metadata": {},
   "outputs": [
    {
     "data": {
      "text/plain": [
       "True"
      ]
     },
     "execution_count": 3,
     "metadata": {},
     "output_type": "execute_result"
    }
   ],
   "source": [
    "load_dotenv(\"./example/.env\")"
   ]
  },
  {
   "cell_type": "markdown",
   "id": "85b42e9f-d407-497f-a76b-7995994c3e27",
   "metadata": {},
   "source": [
    "### Generate JWT and get access token"
   ]
  },
  {
   "cell_type": "code",
   "execution_count": 62,
   "id": "4ddd7faf-fb10-434e-96fb-3fb9d6e52875",
   "metadata": {},
   "outputs": [],
   "source": [
    "BASE_URL = \"https://fhir.epic.com/interconnect-fhir-oauth\""
   ]
  },
  {
   "cell_type": "code",
   "execution_count": 63,
   "id": "7003c9c3-4fd4-4df8-9c2d-3d738bb7ec61",
   "metadata": {},
   "outputs": [],
   "source": [
    "jwt_header = {\"alg\": \"RS384\", \"typ\": \"JWT\"}"
   ]
  },
  {
   "cell_type": "code",
   "execution_count": 64,
   "id": "16eab5e6-eda1-4fc7-8f43-7a6467285d3d",
   "metadata": {
    "tags": []
   },
   "outputs": [],
   "source": [
    "# Token expiration time should not be more then 5 minutes since the current\n",
    "exp = int((datetime.datetime.now() + datetime.timedelta(minutes=4)).timestamp())\n",
    "\n",
    "payload = {\n",
    "    \"iss\": os.getenv(\"CLIENT_ID\"),\n",
    "    \"sub\": os.getenv(\"CLIENT_ID\"),\n",
    "    \"aud\": f\"{BASE_URL}/oauth2/token\",\n",
    "    \"jti\": str(uuid.uuid4()),\n",
    "    \"exp\": exp,\n",
    "}"
   ]
  },
  {
   "cell_type": "code",
   "execution_count": 65,
   "id": "2a9d553d-44f2-4bfd-895c-f6aa6ed76936",
   "metadata": {},
   "outputs": [],
   "source": [
    "with open(os.getenv(\"PRIVATE_KEY_PATH\")) as f:\n",
    "    private_key = f.read()"
   ]
  },
  {
   "cell_type": "code",
   "execution_count": 66,
   "id": "083bed11-253a-42c1-8e08-1a7f8d846205",
   "metadata": {},
   "outputs": [],
   "source": [
    "encoded_token = jwt.encode(jwt_header, payload, private_key)"
   ]
  },
  {
   "cell_type": "code",
   "execution_count": 67,
   "id": "9acfea01-a28a-4458-afc8-7f56db898ecd",
   "metadata": {},
   "outputs": [],
   "source": [
    "headers = requests.structures.CaseInsensitiveDict(\n",
    "    [(\"Content-Type\", \"application/x-www-form-urlencoded\")]\n",
    ")"
   ]
  },
  {
   "cell_type": "code",
   "execution_count": 68,
   "id": "ebcc6543-7053-48f3-b96f-d4c83afe08e7",
   "metadata": {},
   "outputs": [],
   "source": [
    "data = {\n",
    "    \"grant_type\": \"client_credentials\",\n",
    "    \"client_assertion_type\": \"urn:ietf:params:oauth:client-assertion-type:jwt-bearer\",\n",
    "    \"client_assertion\": encoded_token\n",
    "}"
   ]
  },
  {
   "cell_type": "code",
   "execution_count": 69,
   "id": "174ce5cb-2306-491e-a0e6-e2b310522e42",
   "metadata": {},
   "outputs": [],
   "source": [
    "response = requests.post(\n",
    "    f\"{BASE_URL}/oauth2/token\",\n",
    "    headers=headers,\n",
    "    data=data,\n",
    ")"
   ]
  },
  {
   "cell_type": "code",
   "execution_count": 70,
   "id": "a145c8e7-3e82-42f0-af1f-c8446f25da3f",
   "metadata": {},
   "outputs": [],
   "source": [
    "access_token = response.json()[\"access_token\"]"
   ]
  },
  {
   "cell_type": "markdown",
   "id": "0a138f8e-0f5b-4e18-995a-33b305ba2631",
   "metadata": {},
   "source": [
    "### Init FHIR Client"
   ]
  },
  {
   "cell_type": "code",
   "execution_count": 72,
   "id": "e5ebdd64-ca5c-4a62-93a8-f84467334c78",
   "metadata": {},
   "outputs": [],
   "source": [
    "FHIR_BASE_URL = f\"{BASE_URL}/api/FHIR/R4\""
   ]
  },
  {
   "cell_type": "code",
   "execution_count": 73,
   "id": "a2e79cb8-7314-4a38-8b0c-f6be3fafe32c",
   "metadata": {},
   "outputs": [],
   "source": [
    "client = SyncFHIRClient(\n",
    "    FHIR_BASE_URL,\n",
    "    authorization=f\"Bearer {access_token}\",\n",
    ")"
   ]
  },
  {
   "cell_type": "markdown",
   "id": "2cfdb152-b906-484f-9144-cba653b533c0",
   "metadata": {},
   "source": [
    "### Fetch resources"
   ]
  },
  {
   "cell_type": "code",
   "execution_count": 74,
   "id": "212a5ae4-f5cf-43cb-9933-54fdbaac953b",
   "metadata": {},
   "outputs": [
    {
     "data": {
      "text/plain": [
       "[]"
      ]
     },
     "execution_count": 74,
     "metadata": {},
     "output_type": "execute_result"
    }
   ],
   "source": [
    "client.resources(\"Patient\").search(family=\"Mychart\").fetch()"
   ]
  },
  {
   "cell_type": "code",
   "execution_count": 75,
   "id": "06ce5e17-f6b2-4a0c-84f8-228a0003e3ca",
   "metadata": {},
   "outputs": [
    {
     "data": {
      "text/plain": [
       "{'resourceType': 'Patient',\n",
       " 'id': 'eJzlzKe3KPzAV5TtkxmNivQ3',\n",
       " 'extension': [{'extension': [{'valueCoding': {'system': 'http://terminology.hl7.org/CodeSystem/v3-NullFlavor',\n",
       "      'code': 'UNK',\n",
       "      'display': 'Unknown'},\n",
       "     'url': 'ombCategory'},\n",
       "    {'valueString': 'Unknown', 'url': 'text'}],\n",
       "   'url': 'http://hl7.org/fhir/us/core/StructureDefinition/us-core-race'},\n",
       "  {'extension': [{'valueString': 'Unknown', 'url': 'text'}],\n",
       "   'url': 'http://hl7.org/fhir/us/core/StructureDefinition/us-core-ethnicity'},\n",
       "  {'valueCodeableConcept': {'coding': [{'system': 'urn:oid:1.2.840.114350.1.13.0.1.7.10.698084.130.657370.19999000',\n",
       "      'code': 'female',\n",
       "      'display': 'female'}]},\n",
       "   'url': 'http://open.epic.com/FHIR/StructureDefinition/extension/legal-sex'},\n",
       "  {'valueCodeableConcept': {'coding': [{'system': 'urn:oid:1.2.840.114350.1.13.0.1.7.10.698084.130.657370.19999000',\n",
       "      'code': 'female',\n",
       "      'display': 'female'}]},\n",
       "   'url': 'http://open.epic.com/FHIR/StructureDefinition/extension/sex-for-clinical-use'},\n",
       "  {'valueCode': 'F',\n",
       "   'url': 'http://hl7.org/fhir/us/core/StructureDefinition/us-core-birthsex'}],\n",
       " 'identifier': [{'use': 'usual',\n",
       "   'system': 'urn:oid:2.16.840.1.113883.4.1',\n",
       "   'value': '391-50-5316'},\n",
       "  {'use': 'usual',\n",
       "   'type': {'text': 'EPIC'},\n",
       "   'system': 'urn:oid:1.2.840.114350.1.13.0.1.7.5.737384.0',\n",
       "   'value': 'E2731'},\n",
       "  {'use': 'usual',\n",
       "   'type': {'text': 'EXTERNAL'},\n",
       "   'system': 'urn:oid:1.2.840.114350.1.13.0.1.7.2.698084',\n",
       "   'value': 'Z4572'},\n",
       "  {'use': 'usual',\n",
       "   'type': {'text': 'FHIR'},\n",
       "   'system': 'http://open.epic.com/FHIR/StructureDefinition/patient-dstu2-fhir-id',\n",
       "   'value': 'TJgJ7wgwgI32QvHx3YBhDm4egjwdyhmAhfdtE7bQsPYYB'},\n",
       "  {'use': 'usual',\n",
       "   'type': {'text': 'FHIR STU3'},\n",
       "   'system': 'http://open.epic.com/FHIR/StructureDefinition/patient-fhir-id',\n",
       "   'value': 'eJzlzKe3KPzAV5TtkxmNivQ3'},\n",
       "  {'use': 'usual',\n",
       "   'type': {'text': 'INTERNAL'},\n",
       "   'system': 'urn:oid:1.2.840.114350.1.13.0.1.7.2.698084',\n",
       "   'value': '     Z4572'},\n",
       "  {'use': 'usual',\n",
       "   'type': {'text': 'EPI'},\n",
       "   'system': 'urn:oid:1.2.840.114350.1.13.0.1.7.5.737384.14',\n",
       "   'value': '202497'},\n",
       "  {'use': 'usual',\n",
       "   'type': {'text': 'MYCHARTLOGIN'},\n",
       "   'system': 'urn:oid:1.2.840.114350.1.13.0.1.7.3.878082.110',\n",
       "   'value': 'MYCHARTALLISON'},\n",
       "  {'use': 'usual',\n",
       "   'type': {'text': 'WPRINTERNAL'},\n",
       "   'system': 'urn:oid:1.2.840.114350.1.13.0.1.7.2.878082',\n",
       "   'value': '16'}],\n",
       " 'active': True,\n",
       " 'name': [{'use': 'official',\n",
       "   'text': 'Allison Mychart',\n",
       "   'family': 'Mychart',\n",
       "   'given': ['Allison']},\n",
       "  {'use': 'usual',\n",
       "   'text': 'Allison Mychart',\n",
       "   'family': 'Mychart',\n",
       "   'given': ['Allison']}],\n",
       " 'telecom': [{'system': 'phone', 'value': '608-123-4567', 'use': 'home'}],\n",
       " 'gender': 'female',\n",
       " 'birthDate': '1987-01-15',\n",
       " 'deceasedBoolean': False,\n",
       " 'address': [{'use': 'old',\n",
       "   'line': ['123 Main St.'],\n",
       "   'city': 'Madison',\n",
       "   'state': 'WI',\n",
       "   'postalCode': '53703',\n",
       "   'country': 'US'},\n",
       "  {'use': 'home',\n",
       "   'line': ['123 Main St.'],\n",
       "   'city': 'Madison',\n",
       "   'state': 'WI',\n",
       "   'postalCode': '53703',\n",
       "   'country': 'US'}],\n",
       " 'maritalStatus': {'text': 'Significant Other'},\n",
       " 'generalPractitioner': [{'reference': 'Practitioner/eM5CWtq15N0WJeuCet5bJlQ3',\n",
       "   'type': 'Practitioner',\n",
       "   'display': 'Physician Family Medicine, MD'}],\n",
       " 'managingOrganization': {'reference': 'Organization/enRyWnSP963FYDpoks4NHOA3',\n",
       "  'display': 'Epic Hospital System'}}"
      ]
     },
     "execution_count": 75,
     "metadata": {},
     "output_type": "execute_result"
    }
   ],
   "source": [
    "client.execute(\"Patient/eJzlzKe3KPzAV5TtkxmNivQ3\", method=\"GET\")"
   ]
  },
  {
   "cell_type": "code",
   "execution_count": 76,
   "id": "ec353ab1-0f2f-40ee-bb21-2ecd391199e1",
   "metadata": {},
   "outputs": [
    {
     "data": {
      "text/plain": [
       "{'resourceType': 'Bundle',\n",
       " 'type': 'searchset',\n",
       " 'total': 0,\n",
       " 'link': [{'relation': 'self',\n",
       "   'url': 'https://fhir.epic.com/interconnect-fhir-oauth/api/FHIR/R4/Patient?gender=female?'}],\n",
       " 'entry': [{'fullUrl': 'urn:uuid:00000000-0010-5c13-5bfd-cc9613034941',\n",
       "   'resource': {'resourceType': 'OperationOutcome',\n",
       "    'issue': [{'severity': 'information',\n",
       "      'code': 'invalid',\n",
       "      'details': {'coding': [{'system': 'urn:oid:1.2.840.114350.1.13.0.1.7.2.657369',\n",
       "         'code': '59100',\n",
       "         'display': 'Content invalid against the specification or a profile.'}],\n",
       "       'text': 'Content invalid against the specification or a profile.'},\n",
       "      'diagnostics': 'Optional gender invalid: female?',\n",
       "      'location': ['/f:gender'],\n",
       "      'expression': ['gender']},\n",
       "     {'severity': 'warning',\n",
       "      'code': 'processing',\n",
       "      'details': {'coding': [{'system': 'urn:oid:1.2.840.114350.1.13.0.1.7.2.657369',\n",
       "         'code': '4101',\n",
       "         'display': 'Resource request returns no results.'}],\n",
       "       'text': 'Resource request returns no results.'}}]},\n",
       "   'search': {'mode': 'outcome'}}]}"
      ]
     },
     "execution_count": 76,
     "metadata": {},
     "output_type": "execute_result"
    }
   ],
   "source": [
    "client.execute(\"Patient?gender=female\", method=\"GET\")"
   ]
  },
  {
   "cell_type": "code",
   "execution_count": 77,
   "id": "38aadb26-42f4-4240-a70c-de51e5b95db4",
   "metadata": {},
   "outputs": [
    {
     "data": {
      "text/plain": [
       "[]"
      ]
     },
     "execution_count": 77,
     "metadata": {},
     "output_type": "execute_result"
    }
   ],
   "source": [
    "client.resources(\"Patient\").search(address=123).fetch()"
   ]
  },
  {
   "cell_type": "code",
   "execution_count": null,
   "id": "420a96cb-1800-4fa2-a51a-f11d8ea98640",
   "metadata": {},
   "outputs": [],
   "source": []
  }
 ],
 "metadata": {
  "kernelspec": {
   "display_name": "Python 3 (ipykernel)",
   "language": "python",
   "name": "python3"
  },
  "language_info": {
   "codemirror_mode": {
    "name": "ipython",
    "version": 3
   },
   "file_extension": ".py",
   "mimetype": "text/x-python",
   "name": "python",
   "nbconvert_exporter": "python",
   "pygments_lexer": "ipython3",
   "version": "3.10.2"
  }
 },
 "nbformat": 4,
 "nbformat_minor": 5
}
