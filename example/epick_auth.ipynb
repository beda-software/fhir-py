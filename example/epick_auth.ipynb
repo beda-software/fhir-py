{
 "cells": [
  {
   "cell_type": "markdown",
   "id": "be8b4926-69a6-4d33-ad6b-efef17cb31b1",
   "metadata": {
    "tags": []
   },
   "source": [
    "### Install PYTHON dependencies"
   ]
  },
  {
   "cell_type": "code",
   "execution_count": 1,
   "id": "037ebd0f-929e-4a74-8cdb-4a3916b6c24f",
   "metadata": {},
   "outputs": [
    {
     "name": "stdout",
     "output_type": "stream",
     "text": [
      "Looking in indexes: https://pypi.org/simple, https://pypi.ngc.nvidia.com\n",
      "Requirement already satisfied: fhirpy in /Users/dmitrijsutov/.pyenv/versions/3.10.2/lib/python3.10/site-packages (1.3.0)\n",
      "Requirement already satisfied: Authlib in /Users/dmitrijsutov/.pyenv/versions/3.10.2/lib/python3.10/site-packages (1.2.0)\n",
      "Requirement already satisfied: python-dotenv in /Users/dmitrijsutov/.pyenv/versions/3.10.2/lib/python3.10/site-packages (0.21.0)\n",
      "Requirement already satisfied: pytz in /Users/dmitrijsutov/.pyenv/versions/3.10.2/lib/python3.10/site-packages (from fhirpy) (2022.2)\n",
      "Requirement already satisfied: aiohttp>=3.6.3 in /Users/dmitrijsutov/.pyenv/versions/3.10.2/lib/python3.10/site-packages (from fhirpy) (3.8.3)\n",
      "Requirement already satisfied: requests>=2.25.1 in /Users/dmitrijsutov/.pyenv/versions/3.10.2/lib/python3.10/site-packages (from fhirpy) (2.28.1)\n",
      "Requirement already satisfied: cryptography>=3.2 in /Users/dmitrijsutov/.pyenv/versions/3.10.2/lib/python3.10/site-packages (from Authlib) (38.0.4)\n",
      "Requirement already satisfied: yarl<2.0,>=1.0 in /Users/dmitrijsutov/.pyenv/versions/3.10.2/lib/python3.10/site-packages (from aiohttp>=3.6.3->fhirpy) (1.8.2)\n",
      "Requirement already satisfied: attrs>=17.3.0 in /Users/dmitrijsutov/.pyenv/versions/3.10.2/lib/python3.10/site-packages (from aiohttp>=3.6.3->fhirpy) (22.1.0)\n",
      "Requirement already satisfied: aiosignal>=1.1.2 in /Users/dmitrijsutov/.pyenv/versions/3.10.2/lib/python3.10/site-packages (from aiohttp>=3.6.3->fhirpy) (1.3.1)\n",
      "Requirement already satisfied: frozenlist>=1.1.1 in /Users/dmitrijsutov/.pyenv/versions/3.10.2/lib/python3.10/site-packages (from aiohttp>=3.6.3->fhirpy) (1.3.3)\n",
      "Requirement already satisfied: charset-normalizer<3.0,>=2.0 in /Users/dmitrijsutov/.pyenv/versions/3.10.2/lib/python3.10/site-packages (from aiohttp>=3.6.3->fhirpy) (2.1.0)\n",
      "Requirement already satisfied: multidict<7.0,>=4.5 in /Users/dmitrijsutov/.pyenv/versions/3.10.2/lib/python3.10/site-packages (from aiohttp>=3.6.3->fhirpy) (6.0.3)\n",
      "Requirement already satisfied: async-timeout<5.0,>=4.0.0a3 in /Users/dmitrijsutov/.pyenv/versions/3.10.2/lib/python3.10/site-packages (from aiohttp>=3.6.3->fhirpy) (4.0.2)\n",
      "Requirement already satisfied: cffi>=1.12 in /Users/dmitrijsutov/.pyenv/versions/3.10.2/lib/python3.10/site-packages (from cryptography>=3.2->Authlib) (1.15.1)\n",
      "Requirement already satisfied: urllib3<1.27,>=1.21.1 in /Users/dmitrijsutov/.pyenv/versions/3.10.2/lib/python3.10/site-packages (from requests>=2.25.1->fhirpy) (1.26.11)\n",
      "Requirement already satisfied: certifi>=2017.4.17 in /Users/dmitrijsutov/.pyenv/versions/3.10.2/lib/python3.10/site-packages (from requests>=2.25.1->fhirpy) (2022.6.15)\n",
      "Requirement already satisfied: idna<4,>=2.5 in /Users/dmitrijsutov/.pyenv/versions/3.10.2/lib/python3.10/site-packages (from requests>=2.25.1->fhirpy) (3.3)\n",
      "Requirement already satisfied: pycparser in /Users/dmitrijsutov/.pyenv/versions/3.10.2/lib/python3.10/site-packages (from cffi>=1.12->cryptography>=3.2->Authlib) (2.21)\n",
      "Note: you may need to restart the kernel to use updated packages.\n"
     ]
    }
   ],
   "source": [
    "pip install fhirpy Authlib python-dotenv"
   ]
  },
  {
   "cell_type": "code",
   "execution_count": 2,
   "id": "4ee54853-33bd-4957-93a7-b69405a38714",
   "metadata": {},
   "outputs": [],
   "source": [
    "import datetime\n",
    "import os\n",
    "import uuid\n",
    "\n",
    "import requests\n",
    "from authlib.jose import jwt\n",
    "from dotenv import load_dotenv\n",
    "\n",
    "from fhirpy import SyncFHIRClient"
   ]
  },
  {
   "cell_type": "markdown",
   "id": "c2a0eb95-5ce8-459f-9f5e-2b65bf8fd4f7",
   "metadata": {
    "tags": []
   },
   "source": [
    "### load environment variables\n",
    "\n",
    "`cp example/.env.tpl example/.env`   \n",
    "`CLIENT_ID` - your epic app Non-Production Client ID   \n",
    "`PRIVATE_KEY_PATH` - path to your private .pem file (see [documentation](https://fhir.epic.com/Documentation?docId=oauth2&section=Creating-Key-Pair))"
   ]
  },
  {
   "cell_type": "code",
   "execution_count": 3,
   "id": "4b77d9f8-425c-4c55-bb85-c7f2b57a32bf",
   "metadata": {},
   "outputs": [
    {
     "data": {
      "text/plain": [
       "True"
      ]
     },
     "execution_count": 3,
     "metadata": {},
     "output_type": "execute_result"
    }
   ],
   "source": [
    "load_dotenv(\"./example/.env\")"
   ]
  },
  {
   "cell_type": "markdown",
   "id": "85b42e9f-d407-497f-a76b-7995994c3e27",
   "metadata": {},
   "source": [
    "### Generate JWT and get access token"
   ]
  },
  {
   "cell_type": "code",
   "execution_count": 4,
   "id": "4ddd7faf-fb10-434e-96fb-3fb9d6e52875",
   "metadata": {},
   "outputs": [],
   "source": [
    "BASE_URL = \"https://fhir.epic.com/interconnect-fhir-oauth\""
   ]
  },
  {
   "cell_type": "code",
   "execution_count": 5,
   "id": "7003c9c3-4fd4-4df8-9c2d-3d738bb7ec61",
   "metadata": {},
   "outputs": [],
   "source": [
    "jwt_header = {\"alg\": \"RS384\", \"typ\": \"JWT\"}"
   ]
  },
  {
   "cell_type": "code",
   "execution_count": 6,
   "id": "16eab5e6-eda1-4fc7-8f43-7a6467285d3d",
   "metadata": {
    "tags": []
   },
   "outputs": [],
   "source": [
    "# Token expiration time should not be more then 5 minutes since the current\n",
    "exp = int((datetime.datetime.now() + datetime.timedelta(minutes=4)).timestamp())\n",
    "\n",
    "payload = {\n",
    "    \"iss\": os.getenv(\"CLIENT_ID\"),\n",
    "    \"sub\": os.getenv(\"CLIENT_ID\"),\n",
    "    \"aud\": f\"{BASE_URL}/oauth2/token\",\n",
    "    \"jti\": str(uuid.uuid4()),\n",
    "    \"exp\": exp,\n",
    "}"
   ]
  },
  {
   "cell_type": "code",
   "execution_count": 7,
   "id": "2a9d553d-44f2-4bfd-895c-f6aa6ed76936",
   "metadata": {},
   "outputs": [],
   "source": [
    "with open(os.getenv(\"PRIVATE_KEY_PATH\")) as f:\n",
    "    private_key = f.read()"
   ]
  },
  {
   "cell_type": "code",
   "execution_count": 8,
   "id": "083bed11-253a-42c1-8e08-1a7f8d846205",
   "metadata": {},
   "outputs": [],
   "source": [
    "encoded_token = jwt.encode(jwt_header, payload, private_key)"
   ]
  },
  {
   "cell_type": "code",
   "execution_count": 9,
   "id": "9acfea01-a28a-4458-afc8-7f56db898ecd",
   "metadata": {},
   "outputs": [],
   "source": [
    "headers = requests.structures.CaseInsensitiveDict(\n",
    "    [(\"Content-Type\", \"application/x-www-form-urlencoded\")]\n",
    ")"
   ]
  },
  {
   "cell_type": "code",
   "execution_count": 10,
   "id": "ebcc6543-7053-48f3-b96f-d4c83afe08e7",
   "metadata": {},
   "outputs": [],
   "source": [
    "data = {\n",
    "    \"grant_type\": \"client_credentials\",\n",
    "    \"client_assertion_type\": \"urn:ietf:params:oauth:client-assertion-type:jwt-bearer\",\n",
    "    \"client_assertion\": encoded_token\n",
    "}"
   ]
  },
  {
   "cell_type": "code",
   "execution_count": 11,
   "id": "174ce5cb-2306-491e-a0e6-e2b310522e42",
   "metadata": {},
   "outputs": [],
   "source": [
    "response = requests.post(\n",
    "    f\"{BASE_URL}/oauth2/token\",\n",
    "    headers=headers,\n",
    "    data=data,\n",
    ")"
   ]
  },
  {
   "cell_type": "code",
   "execution_count": 12,
   "id": "a145c8e7-3e82-42f0-af1f-c8446f25da3f",
   "metadata": {},
   "outputs": [],
   "source": [
    "access_token = response.json()[\"access_token\"]"
   ]
  },
  {
   "cell_type": "markdown",
   "id": "0a138f8e-0f5b-4e18-995a-33b305ba2631",
   "metadata": {},
   "source": [
    "### Init FHIR Client"
   ]
  },
  {
   "cell_type": "code",
   "execution_count": 13,
   "id": "e5ebdd64-ca5c-4a62-93a8-f84467334c78",
   "metadata": {},
   "outputs": [],
   "source": [
    "FHIR_BASE_URL = f\"{BASE_URL}/api/FHIR/R4\""
   ]
  },
  {
   "cell_type": "code",
   "execution_count": 14,
   "id": "a2e79cb8-7314-4a38-8b0c-f6be3fafe32c",
   "metadata": {},
   "outputs": [],
   "source": [
    "client = SyncFHIRClient(\n",
    "    FHIR_BASE_URL,\n",
    "    authorization=f\"Bearer {access_token}\",\n",
    ")"
   ]
  },
  {
   "cell_type": "markdown",
   "id": "2cfdb152-b906-484f-9144-cba653b533c0",
   "metadata": {},
   "source": [
    "### Get patient"
   ]
  },
  {
   "cell_type": "code",
   "execution_count": null,
   "id": "420a96cb-1800-4fa2-a51a-f11d8ea98640",
   "metadata": {},
   "outputs": [],
   "source": [
    "client.reference(\"Patient\", \"eJzlzKe3KPzAV5TtkxmNivQ3\").to_resource().serialize()"
   ]
  },
  {
   "cell_type": "code",
   "execution_count": null,
   "id": "8d6af090-6cd0-4cf9-a366-96aa7e7e61b6",
   "metadata": {},
   "outputs": [],
   "source": []
  }
 ],
 "metadata": {
  "kernelspec": {
   "display_name": "Python 3 (ipykernel)",
   "language": "python",
   "name": "python3"
  },
  "language_info": {
   "codemirror_mode": {
    "name": "ipython",
    "version": 3
   },
   "file_extension": ".py",
   "mimetype": "text/x-python",
   "name": "python",
   "nbconvert_exporter": "python",
   "pygments_lexer": "ipython3",
   "version": "3.10.2"
  }
 },
 "nbformat": 4,
 "nbformat_minor": 5
}
